{
 "metadata": {
  "language_info": {
   "codemirror_mode": {
    "name": "ipython",
    "version": 3
   },
   "file_extension": ".py",
   "mimetype": "text/x-python",
   "name": "python",
   "nbconvert_exporter": "python",
   "pygments_lexer": "ipython3",
   "version": "3.8.3-final"
  },
  "orig_nbformat": 2,
  "kernelspec": {
   "name": "python3",
   "display_name": "Python 3",
   "language": "python"
  }
 },
 "nbformat": 4,
 "nbformat_minor": 2,
 "cells": [
  {
   "cell_type": "code",
   "execution_count": 1,
   "metadata": {},
   "outputs": [],
   "source": [
    "import pandas as pd\n",
    "csv_path = \"/home/yujin/dot/Baby-Domain/baby-domain-triples.csv\"\n",
    "save_path = \"/home/yujin/dot/Baby-Domain/baby-domain-triples-refined.csv\"\n",
    "# Load triple csv file\n",
    "triples = pd.read_csv(csv_path) "
   ]
  },
  {
   "cell_type": "code",
   "execution_count": 2,
   "metadata": {},
   "outputs": [
    {
     "output_type": "execute_result",
     "data": {
      "text/plain": [
       "1807"
      ]
     },
     "metadata": {},
     "execution_count": 2
    }
   ],
   "source": [
    "triples.shape[0]"
   ]
  },
  {
   "cell_type": "code",
   "execution_count": 5,
   "metadata": {},
   "outputs": [
    {
     "output_type": "stream",
     "name": "stdout",
     "text": [
      "Total number of triples : 1807\n"
     ]
    }
   ],
   "source": [
    "# convert uri to entity\n",
    "def refine_txt(text):\n",
    "    # delete \"\" in text\n",
    "    text = text.replace('\"','')\n",
    "    text = text.replace(\" \",'')\n",
    "    if '#' in text:\n",
    "        text = text.split('#')[-1]\n",
    "    return text\n",
    "\n",
    "new_df = pd.DataFrame(columns=['ent_h','rel','ent_t'])\n",
    "\n",
    "for index, row in triples.iterrows():\n",
    "    new_row = {'ent_h':refine_txt(row['class']), 'rel':refine_txt(row['relations']), 'ent_t':refine_txt(row['value'])}\n",
    "    new_df = new_df.append(new_row, ignore_index=True)\n",
    "\n",
    "new_df.to_csv(save_path)\n",
    "print(\"Total number of triples : {}\".format(new_df.shape[0]))"
   ]
  },
  {
   "cell_type": "code",
   "execution_count": 16,
   "metadata": {},
   "outputs": [],
   "source": [
    "import pickle\n",
    "\n",
    "save_dir = \"/home/yujin/dot/Baby-Domain/data\"\n",
    "\n",
    "# create entity_vocab.pkl\n",
    "entity_vocab = set()\n",
    "\n",
    "for index, row in new_df.iterrows():\n",
    "    entity_vocab.add(row['ent_h'])\n",
    "    entity_vocab.add(row['ent_t'])\n",
    "\n",
    "# convert to list\n",
    "entity_vocab = list(entity_vocab)\n",
    "entity_dict = {'e2i': {}, 'i2e':[]}\n",
    "\n",
    "for idx, item in enumerate(entity_vocab):\n",
    "  entity_dict['e2i'][idx] = item\n",
    "  entity_dict['i2e'].append(item)\n",
    "\n",
    "# save into pickle\n",
    "save_path = os.path.join(save_dir, 'entity_vocab.pkl')\n",
    "with open(save_path, 'wb') as f:\n",
    "    pickle.dump(entity_dict, f, pickle.HIGHEST_PROTOCOL)\n"
   ]
  },
  {
   "cell_type": "code",
   "execution_count": 17,
   "metadata": {},
   "outputs": [],
   "source": [
    "# create relation_vocab.pkl\n",
    "relation_vocab = set()\n",
    "\n",
    "for index, row in new_df.iterrows():\n",
    "    relation_vocab.add(row['rel'])\n",
    "\n",
    "# convert to list\n",
    "relation_vocab = list(relation_vocab)\n",
    "relation_dict = {'e2i': {}, 'i2e':[]}\n",
    "\n",
    "for idx, item in enumerate(relation_vocab):\n",
    "  relation_dict['e2i'][idx] = item\n",
    "  relation_dict['i2e'].append(item)\n",
    "\n",
    "# save into pickle\n",
    "save_path = os.path.join(save_dir, 'relation_vocab.pkl')\n",
    "with open(save_path, 'wb') as f:\n",
    "    pickle.dump(relation_dict, f, pickle.HIGHEST_PROTOCOL)"
   ]
  },
  {
   "cell_type": "code",
   "execution_count": null,
   "metadata": {},
   "outputs": [],
   "source": []
  }
 ]
}